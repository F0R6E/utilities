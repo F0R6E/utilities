{
 "cells": [
  {
   "cell_type": "markdown",
   "metadata": {},
   "source": [
    "## Bite-Sized Python Recipes\n",
    "_Disclaimer:_ This is a collection of small useful functions I've found around the web, mainly on Stack Overflow or Python documentation page. I intend to keep up-to-date."
   ]
  },
  {
   "cell_type": "markdown",
   "metadata": {},
   "source": [
    "**Create a Dictionary From Two Lists:**"
   ]
  },
  {
   "cell_type": "code",
   "execution_count": 1,
   "metadata": {
    "ExecuteTime": {
     "end_time": "2019-04-21T21:21:46.467297Z",
     "start_time": "2019-04-21T21:21:46.452337Z"
    }
   },
   "outputs": [
    {
     "data": {
      "text/plain": [
       "{1: 'foo', 2: 'bar', 3: 'baz'}"
      ]
     },
     "execution_count": 1,
     "metadata": {},
     "output_type": "execute_result"
    }
   ],
   "source": [
    "prod_id = [1, 2, 3]\n",
    "prod_name = ['foo', 'bar', 'baz']\n",
    "prod_dict = dict(zip(prod_id, prod_name))\n",
    "\n",
    "prod_dict"
   ]
  },
  {
   "cell_type": "markdown",
   "metadata": {},
   "source": [
    "**Remove Duplicates From a List and Keep the Order:**"
   ]
  },
  {
   "cell_type": "code",
   "execution_count": 2,
   "metadata": {
    "ExecuteTime": {
     "end_time": "2019-04-21T21:21:46.492229Z",
     "start_time": "2019-04-21T21:21:46.470289Z"
    }
   },
   "outputs": [
    {
     "data": {
      "text/plain": [
       "[1, 2, 4, 3, 0, 5]"
      ]
     },
     "execution_count": 2,
     "metadata": {},
     "output_type": "execute_result"
    }
   ],
   "source": [
    "from collections import OrderedDict\n",
    "\n",
    "nums = [1, 2, 4, 3, 0, 4, 1, 2, 5]\n",
    "list(OrderedDict.fromkeys(nums))\n",
    "\n",
    "# As of Python 3.6 (for the CPython implementation) and\n",
    "# as of 3.7 (across all implementations) dictionaries remember\n",
    "# the order of items inserted. So, a better one is:\n",
    "list(dict.fromkeys(nums))"
   ]
  },
  {
   "cell_type": "markdown",
   "metadata": {},
   "source": [
    "**Create a Multi-Level Nested Dictionary:**\n",
    "\n",
    "Create a dictionary as a value in a dictionary.  Essentially, it's a dictionary that goes multiple levels deep."
   ]
  },
  {
   "cell_type": "code",
   "execution_count": 3,
   "metadata": {
    "ExecuteTime": {
     "end_time": "2019-04-21T21:21:46.507190Z",
     "start_time": "2019-04-21T21:21:46.495222Z"
    }
   },
   "outputs": [],
   "source": [
    "from collections import defaultdict\n",
    "\n",
    "def multi_level_dict():\n",
    "    \"\"\" Constructor for creating multi-level nested dictionary. \"\"\"\n",
    "\n",
    "    return defaultdict(multi_level_dict)"
   ]
  },
  {
   "cell_type": "markdown",
   "metadata": {
    "hide_input": false
   },
   "source": [
    "_Example 1:_"
   ]
  },
  {
   "cell_type": "code",
   "execution_count": 4,
   "metadata": {
    "ExecuteTime": {
     "end_time": "2019-04-21T21:21:46.525143Z",
     "start_time": "2019-04-21T21:21:46.513173Z"
    }
   },
   "outputs": [
    {
     "data": {
      "text/plain": [
       "defaultdict(<function __main__.multi_level_dict()>,\n",
       "            {'a': defaultdict(<function __main__.multi_level_dict()>,\n",
       "                         {'a': defaultdict(<function __main__.multi_level_dict()>,\n",
       "                                      {'y': 2})}),\n",
       "             'b': defaultdict(<function __main__.multi_level_dict()>,\n",
       "                         {'c': defaultdict(<function __main__.multi_level_dict()>,\n",
       "                                      {'a': 5})}),\n",
       "             'x': defaultdict(<function __main__.multi_level_dict()>,\n",
       "                         {'a': 6})})"
      ]
     },
     "execution_count": 4,
     "metadata": {},
     "output_type": "execute_result"
    }
   ],
   "source": [
    "d = multi_level_dict()\n",
    "d['a']['a']['y'] = 2\n",
    "d['b']['c']['a'] = 5\n",
    "d['x']['a'] = 6\n",
    "\n",
    "d"
   ]
  },
  {
   "cell_type": "markdown",
   "metadata": {},
   "source": [
    "_Example 2:_\n",
    "\n",
    "A list of products is given, where each product needs to be delivered from its origin to its distribution center (DC), and then to its destination. Given this list, create a dictionary for the list of products that are shipped through each DC, coming from each origin and going to each destination."
   ]
  },
  {
   "cell_type": "code",
   "execution_count": 5,
   "metadata": {
    "ExecuteTime": {
     "end_time": "2019-04-21T21:21:46.547082Z",
     "start_time": "2019-04-21T21:21:46.531126Z"
    }
   },
   "outputs": [
    {
     "data": {
      "text/plain": [
       "defaultdict(<function __main__.multi_level_dict()>,\n",
       "            {'dc1': defaultdict(<function __main__.multi_level_dict()>,\n",
       "                         {'o2': defaultdict(<function __main__.multi_level_dict()>,\n",
       "                                      {'d3': [P0, P15],\n",
       "                                       'd1': [P2, P9, P14, P18],\n",
       "                                       'd2': [P3, P13]}),\n",
       "                          'o1': defaultdict(<function __main__.multi_level_dict()>,\n",
       "                                      {'d1': [P1, P16],\n",
       "                                       'd3': [P4, P6, P7, P11],\n",
       "                                       'd2': [P17, P19]})}),\n",
       "             'dc2': defaultdict(<function __main__.multi_level_dict()>,\n",
       "                         {'o1': defaultdict(<function __main__.multi_level_dict()>,\n",
       "                                      {'d1': [P5, P12], 'd3': [P10]}),\n",
       "                          'o2': defaultdict(<function __main__.multi_level_dict()>,\n",
       "                                      {'d1': [P8]})})})"
      ]
     },
     "execution_count": 5,
     "metadata": {},
     "output_type": "execute_result"
    }
   ],
   "source": [
    "import random\n",
    "random.seed(20)\n",
    "\n",
    "# Just creating arbitrary attributes for each Product instance\n",
    "class Product:\n",
    "    def __init__(self, id):\n",
    "        self.id = id\n",
    "        self.materials = random.sample('ABCD', 3)  # comprising materials\n",
    "        self.origin = random.choice(('o1', 'o2'))\n",
    "        self.destination = random.choice(('d1', 'd2', 'd3'))\n",
    "        self.dc = random.choice(('dc1', 'dc2'))\n",
    "        \n",
    "    def __repr__(self):\n",
    "        return f'P{str(self.id)}'\n",
    "\n",
    "\n",
    "products = [Product(i) for i in range(20)]\n",
    "\n",
    "# create the multi-level dictionary\n",
    "def get_dc_origin_destination_products_dict(products):\n",
    "    dc_od_products_dict = multi_level_dict()\n",
    "    for p in products:\n",
    "        dc_od_products_dict[p.dc][p.origin].setdefault(p.destination, []).append(p)\n",
    "    return dc_od_products_dict\n",
    "\n",
    "\n",
    "dc_od_orders_dict = get_dc_origin_destination_products_dict(products)\n",
    "dc_od_orders_dict"
   ]
  },
  {
   "cell_type": "markdown",
   "metadata": {},
   "source": [
    "**Return the Keys and Values From the Innermost Layer of a Nested Dict:**"
   ]
  },
  {
   "cell_type": "code",
   "execution_count": 6,
   "metadata": {
    "ExecuteTime": {
     "end_time": "2019-04-21T21:21:46.558053Z",
     "start_time": "2019-04-21T21:21:46.550075Z"
    }
   },
   "outputs": [],
   "source": [
    "from collections import abc\n",
    "\n",
    "def nested_dict_iter(nested):\n",
    "    \"\"\" Return the keys and values from the innermost layer of a nested dict. \"\"\"\n",
    "\n",
    "    for key, value in nested.items():\n",
    "        # Check if value is a dictionary. abc.Mapping is used for generality\n",
    "        if isinstance(value, abc.Mapping):\n",
    "            yield from nested_dict_iter(value)\n",
    "        else:\n",
    "            yield key, value"
   ]
  },
  {
   "cell_type": "markdown",
   "metadata": {},
   "source": [
    "_Example 1:_"
   ]
  },
  {
   "cell_type": "code",
   "execution_count": 7,
   "metadata": {
    "ExecuteTime": {
     "end_time": "2019-04-21T21:21:46.570021Z",
     "start_time": "2019-04-21T21:21:46.561045Z"
    }
   },
   "outputs": [
    {
     "data": {
      "text/plain": [
       "[('y', 2), ('a', 5), ('a', 6)]"
      ]
     },
     "execution_count": 7,
     "metadata": {},
     "output_type": "execute_result"
    }
   ],
   "source": [
    "d = {'a':{'a':{'y':2}},'b':{'c':{'a':5}},'x':{'a':6}}\n",
    "list(nested_dict_iter(d))"
   ]
  },
  {
   "cell_type": "markdown",
   "metadata": {},
   "source": [
    "_Example 2:_ let's retrieve keys and values from our `dc_od_orders_dict` above."
   ]
  },
  {
   "cell_type": "code",
   "execution_count": 8,
   "metadata": {
    "ExecuteTime": {
     "end_time": "2019-04-21T21:21:46.587973Z",
     "start_time": "2019-04-21T21:21:46.573014Z"
    }
   },
   "outputs": [
    {
     "data": {
      "text/plain": [
       "[('d3', [P0, P15]),\n",
       " ('d1', [P2, P9, P14, P18]),\n",
       " ('d2', [P3, P13]),\n",
       " ('d1', [P1, P16]),\n",
       " ('d3', [P4, P6, P7, P11]),\n",
       " ('d2', [P17, P19]),\n",
       " ('d1', [P5, P12]),\n",
       " ('d3', [P10]),\n",
       " ('d1', [P8])]"
      ]
     },
     "execution_count": 8,
     "metadata": {},
     "output_type": "execute_result"
    }
   ],
   "source": [
    "list(nested_dict_iter(dc_od_orders_dict))"
   ]
  },
  {
   "cell_type": "markdown",
   "metadata": {},
   "source": [
    "**The Intersection of Multiple Sets:**"
   ]
  },
  {
   "cell_type": "code",
   "execution_count": 9,
   "metadata": {
    "ExecuteTime": {
     "end_time": "2019-04-21T21:21:46.596961Z",
     "start_time": "2019-04-21T21:21:46.590965Z"
    }
   },
   "outputs": [],
   "source": [
    "def get_common_attr(attr, *args):\n",
    "    \"\"\" intersection requires 'set' objects \"\"\"\n",
    "    \n",
    "    return set.intersection(*[set(getattr(a, attr)) for a in args])"
   ]
  },
  {
   "cell_type": "markdown",
   "metadata": {},
   "source": [
    "_Example:_ Find the common comprising materials, if any, among our first 5 `products`."
   ]
  },
  {
   "cell_type": "code",
   "execution_count": 10,
   "metadata": {
    "ExecuteTime": {
     "end_time": "2019-04-21T21:21:46.609914Z",
     "start_time": "2019-04-21T21:21:46.599942Z"
    }
   },
   "outputs": [
    {
     "data": {
      "text/plain": [
       "{'B'}"
      ]
     },
     "execution_count": 10,
     "metadata": {},
     "output_type": "execute_result"
    }
   ],
   "source": [
    "get_common_attr('materials', *products[:5])"
   ]
  },
  {
   "cell_type": "markdown",
   "metadata": {},
   "source": [
    "**First Match:**\n",
    "\n",
    "Find the first element, if any, from an iterable that matches a condition."
   ]
  },
  {
   "cell_type": "code",
   "execution_count": 11,
   "metadata": {
    "ExecuteTime": {
     "end_time": "2019-04-21T21:21:46.617909Z",
     "start_time": "2019-04-21T21:21:46.612907Z"
    }
   },
   "outputs": [],
   "source": [
    "def first_match(iterable, check_condition, default_value=None):\n",
    "    \"\"\" check_condition is a function. \"\"\"\n",
    "    \n",
    "    return next((i for i in iterable if check_condition(i)), default_value)"
   ]
  },
  {
   "cell_type": "markdown",
   "metadata": {},
   "source": [
    "Example:"
   ]
  },
  {
   "cell_type": "code",
   "execution_count": 12,
   "metadata": {
    "ExecuteTime": {
     "end_time": "2019-04-21T21:21:46.637839Z",
     "start_time": "2019-04-21T21:21:46.620886Z"
    }
   },
   "outputs": [
    {
     "data": {
      "text/plain": [
       "(4, None, 'no_match')"
      ]
     },
     "execution_count": 12,
     "metadata": {},
     "output_type": "execute_result"
    }
   ],
   "source": [
    "nums = [1, 2, 4, 0, 5]\n",
    "f1 = first_match(nums, lambda x: x > 3)\n",
    "f2 = first_match(nums, lambda x: x > 9)\n",
    "f3 = first_match(nums, lambda x: x > 9, 'no_match')\n",
    "f1, f2, f3"
   ]
  },
  {
   "cell_type": "markdown",
   "metadata": {},
   "source": [
    "**Powerset:**\n",
    "\n",
    "The powerset of a set S is the set of all the subsets of S."
   ]
  },
  {
   "cell_type": "code",
   "execution_count": 13,
   "metadata": {
    "ExecuteTime": {
     "end_time": "2019-04-21T21:21:46.645818Z",
     "start_time": "2019-04-21T21:21:46.639835Z"
    }
   },
   "outputs": [],
   "source": [
    "import itertools as it\n",
    "\n",
    "def powerset(iterable):\n",
    "    s = list(iterable)\n",
    "    return it.chain.from_iterable(it.combinations(s, r)\n",
    "                                  for r in range(len(s) + 1))"
   ]
  },
  {
   "cell_type": "markdown",
   "metadata": {},
   "source": [
    "Example:"
   ]
  },
  {
   "cell_type": "code",
   "execution_count": 14,
   "metadata": {
    "ExecuteTime": {
     "end_time": "2019-04-21T21:21:46.660778Z",
     "start_time": "2019-04-21T21:21:46.647813Z"
    }
   },
   "outputs": [
    {
     "data": {
      "text/plain": [
       "[(), (1,), (2,), (3,), (1, 2), (1, 3), (2, 3), (1, 2, 3)]"
      ]
     },
     "execution_count": 14,
     "metadata": {},
     "output_type": "execute_result"
    }
   ],
   "source": [
    "list(powerset([1,2,3]))"
   ]
  },
  {
   "cell_type": "markdown",
   "metadata": {},
   "source": [
    "**Timer Decorator:**\n",
    "\n",
    "Shows the runtime of each class/method/function."
   ]
  },
  {
   "cell_type": "code",
   "execution_count": 15,
   "metadata": {
    "ExecuteTime": {
     "end_time": "2019-04-21T21:21:46.675738Z",
     "start_time": "2019-04-21T21:21:46.664769Z"
    }
   },
   "outputs": [],
   "source": [
    "from time import time\n",
    "from functools import wraps\n",
    "\n",
    "def timeit(func):\n",
    "    \"\"\"\n",
    "    :param func: Decorated function\n",
    "    :return: Execution time for the decorated function\n",
    "    \"\"\"\n",
    "\n",
    "    @wraps(func)\n",
    "    def wrapper(*args, **kwargs):\n",
    "        start = time()\n",
    "        result = func(*args, **kwargs)\n",
    "        end = time()\n",
    "        print(f'{func.__name__} executed in {end - start:.4f} seconds')\n",
    "        # In case you use logging module:\n",
    "        # logging.info(f'{func.__name__} executed in {end - start:.4f} seconds')\n",
    "        return result\n",
    "\n",
    "    return wrapper"
   ]
  },
  {
   "cell_type": "markdown",
   "metadata": {},
   "source": [
    "_Example:_"
   ]
  },
  {
   "cell_type": "code",
   "execution_count": 16,
   "metadata": {
    "ExecuteTime": {
     "end_time": "2019-04-21T21:21:46.907119Z",
     "start_time": "2019-04-21T21:21:46.677733Z"
    }
   },
   "outputs": [
    {
     "name": "stdout",
     "output_type": "stream",
     "text": [
      "sort_rnd_num executed in 0.2194 seconds\n"
     ]
    }
   ],
   "source": [
    "import random\n",
    "\n",
    "# An arbitrary function\n",
    "@timeit\n",
    "def sort_rnd_num():\n",
    "    numbers = [random.randint(100, 200) for _ in range(100000)]\n",
    "    numbers.sort()\n",
    "    return numbers\n",
    "    \n",
    "numbers = sort_rnd_num()"
   ]
  },
  {
   "cell_type": "markdown",
   "metadata": {},
   "source": [
    "**Calculate the Total Number of Lines in a File:**"
   ]
  },
  {
   "cell_type": "code",
   "execution_count": 17,
   "metadata": {
    "ExecuteTime": {
     "end_time": "2019-04-21T21:21:46.935045Z",
     "start_time": "2019-04-21T21:21:46.930058Z"
    }
   },
   "outputs": [],
   "source": [
    "def file_len(file_name, encoding='utf8'):\n",
    "    with open(file_name, encoding=encoding) as f:\n",
    "        i = -1\n",
    "        for i, line in enumerate(f):\n",
    "            pass\n",
    "    return i + 1"
   ]
  },
  {
   "cell_type": "markdown",
   "metadata": {},
   "source": [
    "Example: How many lines of codes are there in the python files of your current directory?"
   ]
  },
  {
   "cell_type": "markdown",
   "metadata": {},
   "source": [
    "_Using `os` and `glob`:_"
   ]
  },
  {
   "cell_type": "code",
   "execution_count": 18,
   "metadata": {
    "ExecuteTime": {
     "end_time": "2019-04-21T21:21:46.972944Z",
     "start_time": "2019-04-21T21:21:46.960976Z"
    }
   },
   "outputs": [
    {
     "name": "stdout",
     "output_type": "stream",
     "text": [
      "1011\n"
     ]
    }
   ],
   "source": [
    "import os\n",
    "import glob\n",
    "\n",
    "path = os.path.abspath('')\n",
    "files_list = glob.glob(path + '/*.ipynb')  # '/*.py' or '/*.ipynb' depending on what you have\n",
    "print(sum(file_len(f) for f in files_list))"
   ]
  },
  {
   "cell_type": "markdown",
   "metadata": {},
   "source": [
    "_Using `pathlib`:_\n",
    "Find out more about `pathlib` and its corrospondance to `os` [here](https://docs.python.org/3/library/pathlib.html#correspondence-to-tools-in-the-os-module)."
   ]
  },
  {
   "cell_type": "code",
   "execution_count": 19,
   "metadata": {
    "ExecuteTime": {
     "end_time": "2019-04-21T21:21:46.988901Z",
     "start_time": "2019-04-21T21:21:46.975935Z"
    }
   },
   "outputs": [
    {
     "name": "stdout",
     "output_type": "stream",
     "text": [
      "1011\n"
     ]
    }
   ],
   "source": [
    "from pathlib import Path\n",
    "\n",
    "p = Path()\n",
    "path = p.resolve()  # similar to os.path.abspath()\n",
    "print(sum(file_len(f) for f in path.glob('*.ipynb')))  # '/*.py' or '/*.ipynb' depending on what you have"
   ]
  },
  {
   "cell_type": "markdown",
   "metadata": {},
   "source": [
    "**Just For Fun! Creating Long Hashtags:**"
   ]
  },
  {
   "cell_type": "code",
   "execution_count": 20,
   "metadata": {
    "ExecuteTime": {
     "end_time": "2019-04-21T21:21:46.999871Z",
     "start_time": "2019-04-21T21:21:46.991892Z"
    }
   },
   "outputs": [
    {
     "data": {
      "text/plain": [
       "'#ThisIsHowICreateVeryLongHashtags'"
      ]
     },
     "execution_count": 20,
     "metadata": {},
     "output_type": "execute_result"
    }
   ],
   "source": [
    "s = \"#this is how I create very long hashtags\"\n",
    "\"\".join(s.title().split())"
   ]
  },
  {
   "cell_type": "markdown",
   "metadata": {},
   "source": [
    "### Some mistakes to avoid:\n",
    "\n",
    "Be careful not to mix up mutable and immutable objects!\n",
    "\n",
    "**Initialize a dictionary with empty lists as values:**"
   ]
  },
  {
   "cell_type": "code",
   "execution_count": 21,
   "metadata": {
    "ExecuteTime": {
     "end_time": "2019-04-21T21:21:47.013834Z",
     "start_time": "2019-04-21T21:21:47.002863Z"
    }
   },
   "outputs": [
    {
     "name": "stdout",
     "output_type": "stream",
     "text": [
      "d1 = {1: [5], 2: [], 3: [], 4: []} \n",
      "d2 = {1: [5], 2: [5], 3: [5], 4: [5]}\n"
     ]
    }
   ],
   "source": [
    "nums = [1, 2, 3, 4]\n",
    "# Create a dictionary with keys from the list.\n",
    "# Let's implement the dictionary in two ways\n",
    "d1 = {n: [] for n in nums}\n",
    "d2 = dict.fromkeys(nums, [])\n",
    "# d1 and d2 may look similar. But list is mutable.\n",
    "d1[1].append(5)\n",
    "d2[1].append(5)\n",
    "# Let's see if d1 and d2 are similar\n",
    "print(f'd1 = {d1} \\nd2 = {d2}')"
   ]
  },
  {
   "cell_type": "markdown",
   "metadata": {},
   "source": [
    "**Don't modify a list while iterating over it:**\n",
    "\n",
    "This is something that should be avoided in any collection.\n",
    "\n",
    "_Example:_ Remove all numbers less than 5 from a list.\n",
    "\n",
    "- Wrong Implementation: Remove the elements while iterating!"
   ]
  },
  {
   "cell_type": "code",
   "execution_count": 22,
   "metadata": {
    "ExecuteTime": {
     "end_time": "2019-04-21T21:21:47.035774Z",
     "start_time": "2019-04-21T21:21:47.017834Z"
    }
   },
   "outputs": [
    {
     "data": {
      "text/plain": [
       "[2, 5, 6, 7, 1]"
      ]
     },
     "execution_count": 22,
     "metadata": {},
     "output_type": "execute_result"
    }
   ],
   "source": [
    "nums = [1, 2, 3, 5, 6, 7, 0, 1]\n",
    "\n",
    "for ind, n in enumerate(nums):\n",
    "    if n < 5:\n",
    "        del(nums[ind])\n",
    "\n",
    "# expected: nums = [5, 6, 7]\n",
    "nums"
   ]
  },
  {
   "cell_type": "markdown",
   "metadata": {},
   "source": [
    "- Correct Implementation:\n",
    "Use list comprehension to create a new list containing only the elements you want!"
   ]
  },
  {
   "cell_type": "code",
   "execution_count": 23,
   "metadata": {
    "ExecuteTime": {
     "end_time": "2019-04-21T21:21:47.046763Z",
     "start_time": "2019-04-21T21:21:47.038771Z"
    }
   },
   "outputs": [
    {
     "data": {
      "text/plain": [
       "2347411645384"
      ]
     },
     "execution_count": 23,
     "metadata": {},
     "output_type": "execute_result"
    }
   ],
   "source": [
    "nums = [1, 2, 3, 5, 6, 7, 0, 1]\n",
    "id(nums)  # before modification"
   ]
  },
  {
   "cell_type": "code",
   "execution_count": 24,
   "metadata": {
    "ExecuteTime": {
     "end_time": "2019-04-21T21:21:47.061717Z",
     "start_time": "2019-04-21T21:21:47.050735Z"
    }
   },
   "outputs": [
    {
     "data": {
      "text/plain": [
       "2347411752648"
      ]
     },
     "execution_count": 24,
     "metadata": {},
     "output_type": "execute_result"
    }
   ],
   "source": [
    "nums = [n for n in nums if n >= 5]\n",
    "id(nums)  # after modification"
   ]
  },
  {
   "cell_type": "markdown",
   "metadata": {},
   "source": [
    "`id(nums)` is checked before and after to show that in fact, they are different lists. So, if the list is used in other places and it's important to mutate the existing list, rather than creating a new list with the same name, assign it to the slice:"
   ]
  },
  {
   "cell_type": "code",
   "execution_count": 25,
   "metadata": {
    "ExecuteTime": {
     "end_time": "2019-04-21T21:21:47.080662Z",
     "start_time": "2019-04-21T21:21:47.066692Z"
    }
   },
   "outputs": [
    {
     "data": {
      "text/plain": [
       "2347411753992"
      ]
     },
     "execution_count": 25,
     "metadata": {},
     "output_type": "execute_result"
    }
   ],
   "source": [
    "nums = [1, 2, 3, 5, 6, 7, 0, 1]\n",
    "id(nums)  # before modification"
   ]
  },
  {
   "cell_type": "code",
   "execution_count": 26,
   "metadata": {
    "ExecuteTime": {
     "end_time": "2019-04-21T21:21:47.092629Z",
     "start_time": "2019-04-21T21:21:47.083648Z"
    }
   },
   "outputs": [
    {
     "data": {
      "text/plain": [
       "2347411753992"
      ]
     },
     "execution_count": 26,
     "metadata": {},
     "output_type": "execute_result"
    }
   ],
   "source": [
    "nums[:] = [n for n in nums if n >= 5]\n",
    "id(nums)  # after modification"
   ]
  },
  {
   "cell_type": "code",
   "execution_count": null,
   "metadata": {},
   "outputs": [],
   "source": []
  }
 ],
 "metadata": {
  "kernelspec": {
   "display_name": "Python 3",
   "language": "python",
   "name": "python3"
  },
  "language_info": {
   "codemirror_mode": {
    "name": "ipython",
    "version": 3
   },
   "file_extension": ".py",
   "mimetype": "text/x-python",
   "name": "python",
   "nbconvert_exporter": "python",
   "pygments_lexer": "ipython3",
   "version": "3.7.1"
  },
  "toc": {
   "base_numbering": 1,
   "nav_menu": {},
   "number_sections": true,
   "sideBar": true,
   "skip_h1_title": false,
   "title_cell": "Table of Contents",
   "title_sidebar": "Contents",
   "toc_cell": false,
   "toc_position": {},
   "toc_section_display": true,
   "toc_window_display": false
  },
  "varInspector": {
   "cols": {
    "lenName": 16,
    "lenType": 16,
    "lenVar": 40
   },
   "kernels_config": {
    "python": {
     "delete_cmd_postfix": "",
     "delete_cmd_prefix": "del ",
     "library": "var_list.py",
     "varRefreshCmd": "print(var_dic_list())"
    },
    "r": {
     "delete_cmd_postfix": ") ",
     "delete_cmd_prefix": "rm(",
     "library": "var_list.r",
     "varRefreshCmd": "cat(var_dic_list()) "
    }
   },
   "types_to_exclude": [
    "module",
    "function",
    "builtin_function_or_method",
    "instance",
    "_Feature"
   ],
   "window_display": false
  }
 },
 "nbformat": 4,
 "nbformat_minor": 2
}
